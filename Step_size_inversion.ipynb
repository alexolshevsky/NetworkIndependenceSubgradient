{
  "nbformat": 4,
  "nbformat_minor": 0,
  "metadata": {
    "colab": {
      "name": "Step-size-inversion.ipynb",
      "provenance": [],
      "collapsed_sections": []
    },
    "kernelspec": {
      "name": "python3",
      "display_name": "Python 3"
    },
    "language_info": {
      "name": "python"
    }
  },
  "cells": [
    {
      "cell_type": "markdown",
      "metadata": {
        "id": "S5iIy9s1_0ja"
      },
      "source": [
        "This notebook demonstrates the step-size inversion phenomenon discussed in the paper \"Asymptotic Network Independence and Step-Size for a Distributed Subgradient Method.\" The code provided here will generated Figure 2 of that paper. \n",
        "\n",
        "First, we set the various parameters. "
      ]
    },
    {
      "cell_type": "code",
      "metadata": {
        "id": "T2p56WUQ_09a"
      },
      "source": [
        "import numpy as np \n",
        "N = 9; #number of agents\n",
        "m = 1;  #number of data points per agent \n",
        "d = 2;  #dimension "
      ],
      "execution_count": 1,
      "outputs": []
    },
    {
      "cell_type": "code",
      "metadata": {
        "id": "NbrSqQnhAQbF"
      },
      "source": [
        "times = 1000;                                                              #number of times we will run the optimization method to determine each data point\n",
        "stepsizes = [0.5, 0.55, 0.6, 0.65, 0.7, 0.75, 0.8, 0.85]; #we will use step-sizes that go as 1/k^a, where a is an element of this array\n",
        "L = len(stepsizes)\n",
        "results = np.zeros(L);                                                 #since there are 11 step-sizes, the final result will be an array with 11 entries \n",
        "lambda1 = 1\n",
        "lambda2 = 1/20\n",
        "ones_vector = np.ones(d)\n"
      ],
      "execution_count": 2,
      "outputs": []
    },
    {
      "cell_type": "markdown",
      "metadata": {
        "id": "-TkdMpvyqvu5"
      },
      "source": [
        "Since the optimization problem is done over the [0,1]^d, it will be useful to have a couple of functions projecting points onto the unit cube. The two functions below do this. The first one projects a numpy array of dimension dim,\n",
        "and the second one projects a scalar."
      ]
    },
    {
      "cell_type": "code",
      "metadata": {
        "id": "8pkmYiJGG9yZ"
      },
      "source": [
        "def projcubenp(x,dim):\n",
        "  for i in range(dim):\n",
        "    if x[i] > 1:\n",
        "      x[i]=1\n",
        "\n",
        "    if x[i] < -1:\n",
        "      x[i]=-1\n",
        "  \n",
        "  return x"
      ],
      "execution_count": 3,
      "outputs": []
    },
    {
      "cell_type": "code",
      "metadata": {
        "id": "Sc3FpoPtpeGZ"
      },
      "source": [
        "def projcubescalar(x):\n",
        "  if x > 1:\n",
        "    x=1\n",
        "  if x < -1:\n",
        "    x=-1\n",
        "  return x"
      ],
      "execution_count": 4,
      "outputs": []
    },
    {
      "cell_type": "markdown",
      "metadata": {
        "id": "3fDdUyvIrAjc"
      },
      "source": [
        "This function computes the subgradient of the function \n",
        "\n",
        "f(point) = (1/40)*(point^T x - y)^4 + lambda_1||point||_2^2 + lambda_2 ||point||_1 \n",
        "\n",
        "that subgradient is clearly equal to \n",
        "\n",
        "(1/4) (point^T x - y)^3 point + 2 lambda_1 point + lambda_2 sign(point) "
      ]
    },
    {
      "cell_type": "code",
      "metadata": {
        "id": "dLqG3ujvRMYi"
      },
      "source": [
        "def compute_grad_elastic(point, x, y, lambda1, lambda2):\n",
        "  # point is theta\n",
        "  #x is a_i\n",
        "  #y is b_i\n",
        "  #lambda1, lambda2 are themselves\n",
        "  sign  = np.sign(point)\n",
        "  diff = np.matmul(point,x) - y\n",
        "  y = (1/10)*(diff ** 3)*x + 2*lambda1*point + lambda2*sign\n",
        "\n",
        "  return y"
      ],
      "execution_count": 5,
      "outputs": []
    },
    {
      "cell_type": "markdown",
      "metadata": {
        "id": "6AxmdNbst1UX"
      },
      "source": [
        "Finally, it will be useful to have the following \"double sided relu\" function which is zero when the absolute value of x is below N, and outside that range equals |x|-N"
      ]
    },
    {
      "cell_type": "code",
      "metadata": {
        "id": "GhO2SLPbrNJN"
      },
      "source": [
        "def reluN(x,U): \n",
        "  \n",
        "  if np.absolute(x) < U:\n",
        "    return 0\n",
        "  else:\n",
        "    return np.absolute(x) - U"
      ],
      "execution_count": 6,
      "outputs": []
    },
    {
      "cell_type": "markdown",
      "metadata": {
        "id": "eGiYr9wHB_lS"
      },
      "source": [
        "Finally, the following package will be used to track progress as we execute the method."
      ]
    },
    {
      "cell_type": "code",
      "metadata": {
        "colab": {
          "base_uri": "https://localhost:8080/"
        },
        "id": "-v2fkMdqAgZM",
        "outputId": "1ac178bd-68d2-4ed0-8afd-e6784c4e9fec"
      },
      "source": [
        "!pip install enlighten"
      ],
      "execution_count": 7,
      "outputs": [
        {
          "output_type": "stream",
          "text": [
            "Requirement already satisfied: enlighten in /usr/local/lib/python3.7/dist-packages (1.10.1)\n",
            "Requirement already satisfied: blessed>=1.17.7 in /usr/local/lib/python3.7/dist-packages (from enlighten) (1.18.1)\n",
            "Requirement already satisfied: prefixed>=0.3.2 in /usr/local/lib/python3.7/dist-packages (from enlighten) (0.3.2)\n",
            "Requirement already satisfied: wcwidth>=0.1.4 in /usr/local/lib/python3.7/dist-packages (from blessed>=1.17.7->enlighten) (0.2.5)\n",
            "Requirement already satisfied: six>=1.9.0 in /usr/local/lib/python3.7/dist-packages (from blessed>=1.17.7->enlighten) (1.15.0)\n"
          ],
          "name": "stdout"
        }
      ]
    },
    {
      "cell_type": "markdown",
      "metadata": {
        "id": "bzAiJKiPuBUS"
      },
      "source": [
        "The following is the main loop of the \"centralized\" method. That is, each iteration of the method will just loop over the data of every agent. This only makes sense under the assumption that this is possible, i.e., a centralized agent can simply access the data of each agent. This method serves as a benchmark to what the distributed method is later compared. "
      ]
    },
    {
      "cell_type": "code",
      "metadata": {
        "colab": {
          "base_uri": "https://localhost:8080/",
          "height": 170
        },
        "id": "4KUWU48_A4mz",
        "outputId": "090ba67d-7d6e-4621-8972-25edd72666e3"
      },
      "source": [
        "import enlighten\n",
        "\n",
        "manager = enlighten.get_manager()\n",
        "ticks = manager.counter(total=L, desc=\"Outer Loop\", unit=\"Iterations\", color=\"red\")\n",
        "\n",
        "\n",
        "for a in range(L):  #there are 11 step-sizes and we loop over them. \n",
        "    ticks.update()\n",
        "    record = np.zeros(times) #this array will contain an entry for every time we run the method \n",
        "    tocks = manager.counter(total=times, desc=\"Inner Loop\", unit=\"Iterations\", color=\"blue\")\n",
        "    for b in range(times): #this loop will fill the \"record\" array\n",
        "        \n",
        "        tocks.update()\n",
        "\n",
        "        X = np.random.rand(m*d,N) #generate random data \n",
        "                                  #this is the a_i in the paper\n",
        "                                  #each column of this array corresponds to information held by an agent\n",
        "                                  #thus there are N columns\n",
        "                                  #each column holds m data points of dimension d\n",
        "\n",
        "        \n",
        "        #the next loop generates the quantities b_i from the paper, which we stack into the vector y\n",
        "        y = np.zeros((m,N)) #there are N agents, each has m data points, so y is m x N\n",
        "        for i in range(N):\n",
        "          for j in range(m):\n",
        "            Xextracted = X[j*d:(j+1)*d,i] #this is x_i\n",
        "            y[j,i] = np.matmul(ones_vector, Xextracted) + 2*np.random.standard_normal() #y_i = 1^T x_i + w_i \n",
        "                                                                                      #this is the all-ones vector is going to be very close to the optimal solution\n",
        "\n",
        "\n",
        "\n",
        "        #now we setup the main loop\n",
        "\n",
        "        seqerror = 1 #this quantity will measure the norm of the subgradient\n",
        "        k=1          #variable counting how many iterations we have done\n",
        "\n",
        "        xprev = np.zeros(d) #initial point\n",
        "        runavg = xprev      #running average of iterates\n",
        "\n",
        "        while seqerror > 3e-2: #as long as the error is large, we keep iterating \n",
        "\n",
        "              #first step is to compute the gradient at the current point, which is xprev\n",
        "              grad = np.zeros(d) #initialize to zero\n",
        "\n",
        "              #sum over all the agents and all the data held by the agents\n",
        "              for i in range(N):\n",
        "                for j in range(m):\n",
        "                  Xextracted = X[j*d:(j+1)*d,i]\n",
        "                  temp_grad = compute_grad_elastic(xprev, Xextracted, y[j,i], lambda1, lambda2)\n",
        "                  grad += temp_grad \n",
        "                \n",
        "              #step-size at this iteration\n",
        "\n",
        "              alpha = 1/( k ** stepsizes[a])\n",
        "\n",
        "              #the main update: projected gradient descent\n",
        "              x = projcubenp(xprev - alpha*(1/(N*m))*grad, d) #note the slightly lopsided way we computed the gradient:\n",
        "                                                              #we sum up over K points, then divide by K\n",
        "                                                              #thus the ||theta||_2^2 and ||theta||_1 terms get added K times\n",
        "                                                              #and then get divided by K\n",
        "\n",
        "              runavg = (1-alpha)*runavg + alpha*x            #update the running average \n",
        "\n",
        "\n",
        "              #next, we will compute the gradient at the running average \n",
        "              #we will stop when this is close to zero \n",
        "              #the rule we use will be explained in the text box after the code \n",
        "              #for now note that this code below computes \n",
        "              #gradrun0: subgradient at the running average with lambda_2 = 0 \n",
        "              #gradrun1: subgradient at the running average \n",
        "              gradrun0 = np.zeros(d)\n",
        "              gradrun1 = np.zeros(d)\n",
        "\n",
        "              for i in range(N):\n",
        "                for j in range(m):\n",
        "                  Xextracted = X[j*d:(j+1)*d,i]\n",
        "                  temp_grad0 = compute_grad_elastic(runavg, Xextracted, y[j,i], lambda1, 0)\n",
        "                  temp_grad1 = compute_grad_elastic(runavg, Xextracted, y[j,i], lambda1, lambda2)\n",
        "                  gradrun0 += temp_grad0\n",
        "                  gradrun1 += temp_grad1\n",
        "\n",
        "              #because the above loop summed over N*m data points, we need to now divide by N*m\n",
        "              gradrun0 = gradrun0/(N*m)\n",
        "              gradrun1 = gradrun1/(N*m)\n",
        "              #compute the norm of the subgradient at the running average \n",
        "              error_cum = 0 \n",
        "\n",
        "              for i in range(d):\n",
        "\n",
        "                if np.absolute(runavg[i]) > 1e-2 and np.absolute(runavg[i]) < 1-1e-2:\n",
        "                  error_cum += np.absolute(gradrun1[i])\n",
        "\n",
        "                if np.absolute(runavg[i]) < 1e-2: \n",
        "                  error_cum += reluN(gradrun0[i],lambda2)\n",
        "\n",
        "                if np.absolute(runavg[i]) > 1-1e-2:\n",
        "                  error_cum += (runavg[i] - projcubescalar(runavg[i]-alpha*gradrun1[i]))/alpha\n",
        "\n",
        "\n",
        "              seqerror = error_cum #set the cumulative error which will determine whether the while loop takes another iteration \n",
        "              xprev = x #update the iterate \n",
        "              k=k+1     #update the number of iterations\n",
        "        record[b]=k     #once the while loop has completed, count how many iterations it took\n",
        "    tocks.close()       #close the inner loop bar once the for loop over b is complete (it will get started again the next time this loop is passed through)\n",
        "\n",
        "    results[a] = np.average(record)\n",
        "\n",
        "\n",
        "manager.stop()\n"
      ],
      "execution_count": 8,
      "outputs": [
        {
          "output_type": "display_data",
          "data": {
            "text/html": [
              "<style>\n",
              ".enlighten-fg-red {\n",
              "  color: #cd0000;\n",
              "}\n",
              ".enlighten-fg-blue {\n",
              "  color: #0000ee;\n",
              "}\n",
              "</style>\n",
              "<div class=\"enlighten\">\n",
              "  <div class=\"enlighten-bar\">\n",
              "    <pre>Outer Loop 100%|<span class=\"enlighten-fg-red\">██████████████████████████████████████████████</span>| 8/8 [00:24&lt;00:00, 0.33 Iterations/s]</pre>\n",
              "  </div>\n",
              "  <div class=\"enlighten-bar\">\n",
              "    <pre>Inner Loop 100%|<span class=\"enlighten-fg-blue\">███████████████████████████████████████</span>| 1000/1000 [00:24&lt;00:00, 41.81 Iterations/s]</pre>\n",
              "  </div>\n",
              "  <div class=\"enlighten-bar\">\n",
              "    <pre>Inner Loop 100%|<span class=\"enlighten-fg-blue\">███████████████████████████████████████</span>| 1000/1000 [00:21&lt;00:00, 47.03 Iterations/s]</pre>\n",
              "  </div>\n",
              "  <div class=\"enlighten-bar\">\n",
              "    <pre>Inner Loop 100%|<span class=\"enlighten-fg-blue\">███████████████████████████████████████</span>| 1000/1000 [00:18&lt;00:00, 54.23 Iterations/s]</pre>\n",
              "  </div>\n",
              "  <div class=\"enlighten-bar\">\n",
              "    <pre>Inner Loop 100%|<span class=\"enlighten-fg-blue\">███████████████████████████████████████</span>| 1000/1000 [00:16&lt;00:00, 64.29 Iterations/s]</pre>\n",
              "  </div>\n",
              "  <div class=\"enlighten-bar\">\n",
              "    <pre>Inner Loop 100%|<span class=\"enlighten-fg-blue\">███████████████████████████████████████</span>| 1000/1000 [00:13&lt;00:00, 79.84 Iterations/s]</pre>\n",
              "  </div>\n",
              "  <div class=\"enlighten-bar\">\n",
              "    <pre>Inner Loop 100%|<span class=\"enlighten-fg-blue\">██████████████████████████████████████</span>| 1000/1000 [00:09&lt;00:00, 110.25 Iterations/s]</pre>\n",
              "  </div>\n",
              "  <div class=\"enlighten-bar\">\n",
              "    <pre>Inner Loop 100%|<span class=\"enlighten-fg-blue\">██████████████████████████████████████</span>| 1000/1000 [00:05&lt;00:00, 206.55 Iterations/s]</pre>\n",
              "  </div>\n",
              "  <div class=\"enlighten-bar\">\n",
              "    <pre>Inner Loop 100%|<span class=\"enlighten-fg-blue\">██████████████████████████████████████</span>| 1000/1000 [00:06&lt;00:00, 171.50 Iterations/s]</pre>\n",
              "  </div>\n",
              "</div>\n"
            ],
            "text/plain": [
              "<IPython.core.display.HTML object>"
            ]
          },
          "metadata": {
            "tags": []
          }
        }
      ]
    },
    {
      "cell_type": "markdown",
      "metadata": {
        "id": "5FnTpyxRaPuk"
      },
      "source": [
        "We now explain the way we computed the subgradinet. First, the motivation: as explained in the paper, we want to choose a subgradient of minimum norm. Otherwise, we might be at the optimal point and move away from it with a nonzero subgradient. This is particularly important since we use the 1-norm of the subgradient as a stopping criterion. \n",
        "\n",
        "Clearly, the subgradient of our objective decomposes component by component. We thus consider three cases:\n",
        "\n",
        "(1) theta_i is not 0 or 1. \n",
        "\n",
        "In this case, the situation is simple. There is only one choice for subgradient. This is exactly what is computed by gradrun1. \n",
        "\n",
        "\n",
        "(2) theta_i is zero. In this case, there is considerable freedom to choose the subgradient of the last term: it can be chosen to be anything between -lambda2 and lambda2 \n",
        "\n",
        "So we choose it to make that entry of the subgradient the smallest. What this means is that:\n",
        "\n",
        "  (a) we compute the subgradient with lambda_2=0, for which there is only one choice; this is gradrun0\n",
        "\n",
        "  (b) the final answre is zero with |gradrun0[i]|<lambda2. Otherwise, it is |gradrun0[i]|-lambda_2. This is computed by the reluN function. \n",
        "\n",
        "\n",
        "(3) theta_i=1. In this case, you compute the norm of the \"gradient mapping\" "
      ]
    },
    {
      "cell_type": "code",
      "metadata": {
        "colab": {
          "base_uri": "https://localhost:8080/",
          "height": 312
        },
        "id": "5emFTGavypos",
        "outputId": "846c9a5b-c56f-4cc5-cc8f-3c7b44ceb7e9"
      },
      "source": [
        "import matplotlib.pyplot as plt\n",
        "plt.scatter(stepsizes,results)\n",
        "plt.xlabel('beta')\n",
        "plt.title('Iterations vs beta')"
      ],
      "execution_count": 15,
      "outputs": [
        {
          "output_type": "execute_result",
          "data": {
            "text/plain": [
              "Text(0.5, 1.0, 'Iterations vs beta')"
            ]
          },
          "metadata": {
            "tags": []
          },
          "execution_count": 15
        },
        {
          "output_type": "display_data",
          "data": {
            "image/png": "[encoded data removed]",
            "text/plain": [
              "<Figure size 432x288 with 1 Axes>"
            ]
          },
          "metadata": {
            "tags": [],
            "needs_background": "light"
          }
        }
      ]
    },
    {
      "cell_type": "markdown",
      "metadata": {
        "id": "8BCFSyBIg5sq"
      },
      "source": [
        "We now code the distributed method. \n",
        "\n",
        "\n",
        "The first step is given in the following chunk of code, which returns P to be the Metropolis matrix on the path. \n"
      ]
    },
    {
      "cell_type": "code",
      "metadata": {
        "id": "m3-WaNBXoVFE"
      },
      "source": [
        "import networkx as nx\n",
        "\n",
        "def adj_to_met(U, dimen):\n",
        "  #converts adjacency matrix to metropolis matrix\n",
        "\n",
        "  degs = U.sum(axis=0) #vector of degrees\n",
        "  \n",
        "\n",
        "  X = np.zeros((dimen, dimen)) #initialize a zeros dimen x dimen matrix\n",
        "  \n",
        "  #loop below sets X[i,j] to be U[i,j] divided by the maximum degrees of i and j, plus one \n",
        "  #thus zero entries in U translate to zero entries in X\n",
        "  #if necessary, can try to rewrite all this in the future so that it does not take quadratic time\n",
        "  for i in range(dimen):\n",
        "    for j in range(dimen):\n",
        "      X[i,j] = float(U[i,j])/float((max(degs[i]+1, degs[j]+1)))\n",
        "  \n",
        "  \n",
        "  #finally, we need to take care of the diagonal entries\n",
        "\n",
        "  s = X.sum(axis=0) #sum of the rows of X\n",
        "  d = np.ones(dimen) - s #what remains to make things add up to one \n",
        "\n",
        "  X += np.diag(d) #put that remainder on the diagonal and add it to X\n",
        "\n",
        "  return X\n",
        "\n",
        "G = nx.grid_graph(dim=(3,3)) #create an nxn path\n",
        "Q = nx.adjacency_matrix(G)   #adjacency matrix of this path\n",
        "U = Q.A                      #convert to a numpy array\n",
        "P = adj_to_met(U, N) \n"
      ],
      "execution_count": 11,
      "outputs": []
    },
    {
      "cell_type": "markdown",
      "metadata": {
        "id": "eGR_9sNC2srw"
      },
      "source": [
        "Now we do the main iteration loop. This is similar to the centralized case above, except that now the \"iterate\" is a matrix (one column for each agent)\n",
        "and is updated with a consensus term. \n",
        "\n",
        "We stop when the gradient at the running average across network + time is sufficiently close. "
      ]
    },
    {
      "cell_type": "code",
      "metadata": {
        "id": "gJxUt5a7g5DW",
        "colab": {
          "base_uri": "https://localhost:8080/",
          "height": 170
        },
        "outputId": "bd6ed8d6-ae54-466c-ac1e-16b10fcaea7d"
      },
      "source": [
        "import enlighten\n",
        "\n",
        "manager = enlighten.get_manager()\n",
        "ticks = manager.counter(total=L, desc=\"Outer Loop\", unit=\"Iterations\", color=\"red\")\n",
        "\n",
        "results_dist = np.zeros(L)\n",
        "\n",
        "\n",
        "for a in range(L):  #there are 11 step-sizes and we loop over them. \n",
        "    ticks.update()\n",
        "    record = np.zeros(times) #this array will contain an entry for every time we run the method \n",
        "    tocks = manager.counter(total=times, desc=\"Inner Loop\", unit=\"Iterations\", color=\"blue\")\n",
        "    for b in range(times): #this loop will fill the \"record\" array\n",
        "        \n",
        "        tocks.update()\n",
        "\n",
        "        X = np.random.rand(m*d,N) #generate random data \n",
        "                                  #this is the a_i in the paper\n",
        "                                  #each column of this array corresponds to information held by an agent\n",
        "                                  #thus there are N columns\n",
        "                                  #each column holds m data points of dimension d\n",
        "\n",
        "        \n",
        "        #the next loop generates the quantities b_i from the paper, which we stack into the vector y\n",
        "        y = np.zeros((m,N)) #there are N agents, each has m data points, so y is m x N\n",
        "        for i in range(N):\n",
        "          for j in range(m):\n",
        "            Xextracted = X[j*d:(j+1)*d,i] #this is x_i\n",
        "            y[j,i] = np.matmul(ones_vector, Xextracted) + 2*np.random.standard_normal() #y_i = 1^T x_i + w_i \n",
        "                                                                                      #this is the all-ones vector is going to be very close to the optimal solution\n",
        "\n",
        "\n",
        "\n",
        "        #now we setup the main loop\n",
        "\n",
        "        seqerror = 1 #this quantity will measure the norm of the subgradient\n",
        "        k=1          #variable counting how many iterations we have done\n",
        "\n",
        "        xprev = np.zeros((d, N)) #initial point. \n",
        "                                 #note the difference from the centralized case\n",
        "                                 #now the initial point is a dxN matrix\n",
        "                                 #the i'th column of this matrix is the initial point at node i\n",
        "\n",
        "        runavg = np.zeros(d)      #running average of iterates\n",
        "                                  #this is a vector in R^d\n",
        "\n",
        "        while seqerror > 3e-2: #as long as the error is large, we keep iterating \n",
        "\n",
        "              #first step is to compute the gradient at the current point, which is xprev\n",
        "              grad = np.zeros((d,N)) #initialize to zero\n",
        "                                     #we will have different gradients at different nodes\n",
        "                                     #the gradient at node i will be the ith column of this\n",
        "\n",
        "              #compute the gradients\n",
        "              for i in range(N):\n",
        "                for j in range(m):\n",
        "                  Xextracted = X[j*d:(j+1)*d,i]\n",
        "                  temp_grad = compute_grad_elastic(xprev[:,i], Xextracted, y[j,i], lambda1, lambda2)\n",
        "                  grad[:,i] += temp_grad \n",
        "                \n",
        "              #step-size at this iteration\n",
        "\n",
        "              alpha = 1/( k ** stepsizes[a])\n",
        "              x = np.zeros((d,N))\n",
        "              #the main update: first, projected gradient descent\n",
        "              for i in range(N):\n",
        "                x[:,i] = projcubenp(xprev[:,i] - alpha*(1/(N*m))*grad[:,i], d) #note the slightly lopsided way we computed the gradient:\n",
        "                                                              #we sum up over K points, then divide by K\n",
        "                                                              #thus the ||theta||_2^2 and ||theta||_1 terms get added K times\n",
        "                                                              #and then get divided by K\n",
        "              \n",
        "              \n",
        "              #second part of main update: the consensus multiplication\n",
        "              # maybe more helpful to think of this as x <--- (P x^T)^T\n",
        "              #which works out to the same thing since P is symmetric\n",
        "              x = np.matmul(x,P)\n",
        "\n",
        "              xavg = x.sum(axis=1)/N                            #average across the network\n",
        "              runavg = (1-alpha)*runavg + alpha*xavg            #update the running average \n",
        "\n",
        "\n",
        "              #the next part is identical to the centralized case\n",
        "              gradrun0 = np.zeros(d)\n",
        "              gradrun1 = np.zeros(d)\n",
        "\n",
        "              for i in range(N):\n",
        "                for j in range(m):\n",
        "                  Xextracted = X[j*d:(j+1)*d,i]\n",
        "                  temp_grad0 = compute_grad_elastic(runavg, Xextracted, y[j,i], lambda1, 0)\n",
        "                  temp_grad1 = compute_grad_elastic(runavg, Xextracted, y[j,i], lambda1, lambda2)\n",
        "                  gradrun0 += temp_grad0\n",
        "                  gradrun1 += temp_grad1\n",
        "\n",
        "              #because the above loop summed over N*m data points, we need to now divide by N*m\n",
        "              gradrun0 = gradrun0/(N*m)\n",
        "              gradrun1 = gradrun1/(N*m)\n",
        "              #compute the norm of the subgradient at the running average \n",
        "              error_cum = 0 \n",
        "\n",
        "              for i in range(d):\n",
        "\n",
        "                if np.absolute(runavg[i]) > 1e-2 and np.absolute(runavg[i]) < 1-1e-2:\n",
        "                  error_cum += np.absolute(gradrun1[i])\n",
        "\n",
        "                if np.absolute(runavg[i]) < 1e-2: \n",
        "                  error_cum += reluN(gradrun0[i],lambda2)\n",
        "\n",
        "                if np.absolute(runavg[i]) > 1-1e-2:\n",
        "                  error_cum += (runavg[i] - projcubescalar(runavg[i]-alpha*gradrun1[i]))/alpha\n",
        "\n",
        "\n",
        "              seqerror = error_cum #set the cumulative error which will determine whether the while loop takes another iteration \n",
        "              xprev = x #update the iterate \n",
        "              k=k+1     #update the number of iterations\n",
        "        record[b]=k     #once the while loop has completed, count how many iterations it took\n",
        "    tocks.close()       #close the inner loop bar once the for loop over b is complete (it will get started again the next time this loop is passed through)\n",
        "\n",
        "    results_dist[a] = np.average(record)\n",
        "\n",
        "\n",
        "manager.stop()\n"
      ],
      "execution_count": 12,
      "outputs": [
        {
          "output_type": "display_data",
          "data": {
            "text/html": [
              "<style>\n",
              ".enlighten-fg-red {\n",
              "  color: #cd0000;\n",
              "}\n",
              ".enlighten-fg-blue {\n",
              "  color: #0000ee;\n",
              "}\n",
              "</style>\n",
              "<div class=\"enlighten\">\n",
              "  <div class=\"enlighten-bar\">\n",
              "    <pre>Outer Loop 100%|<span class=\"enlighten-fg-red\">██████████████████████████████████████████████</span>| 8/8 [35:44&lt;00:00, 0.00 Iterations/s]</pre>\n",
              "  </div>\n",
              "  <div class=\"enlighten-bar\">\n",
              "    <pre>Inner Loop 100%|<span class=\"enlighten-fg-blue\">████████████████████████████████████████</span>| 1000/1000 [35:44&lt;00:00, 0.47 Iterations/s]</pre>\n",
              "  </div>\n",
              "  <div class=\"enlighten-bar\">\n",
              "    <pre>Inner Loop 100%|<span class=\"enlighten-fg-blue\">████████████████████████████████████████</span>| 1000/1000 [21:45&lt;00:00, 0.77 Iterations/s]</pre>\n",
              "  </div>\n",
              "  <div class=\"enlighten-bar\">\n",
              "    <pre>Inner Loop 100%|<span class=\"enlighten-fg-blue\">████████████████████████████████████████</span>| 1000/1000 [15:41&lt;00:00, 1.06 Iterations/s]</pre>\n",
              "  </div>\n",
              "  <div class=\"enlighten-bar\">\n",
              "    <pre>Inner Loop 100%|<span class=\"enlighten-fg-blue\">████████████████████████████████████████</span>| 1000/1000 [12:06&lt;00:00, 1.38 Iterations/s]</pre>\n",
              "  </div>\n",
              "  <div class=\"enlighten-bar\">\n",
              "    <pre>Inner Loop 100%|<span class=\"enlighten-fg-blue\">████████████████████████████████████████</span>| 1000/1000 [09:35&lt;00:00, 1.74 Iterations/s]</pre>\n",
              "  </div>\n",
              "  <div class=\"enlighten-bar\">\n",
              "    <pre>Inner Loop 100%|<span class=\"enlighten-fg-blue\">████████████████████████████████████████</span>| 1000/1000 [07:18&lt;00:00, 2.28 Iterations/s]</pre>\n",
              "  </div>\n",
              "  <div class=\"enlighten-bar\">\n",
              "    <pre>Inner Loop 100%|<span class=\"enlighten-fg-blue\">████████████████████████████████████████</span>| 1000/1000 [04:30&lt;00:00, 3.71 Iterations/s]</pre>\n",
              "  </div>\n",
              "  <div class=\"enlighten-bar\">\n",
              "    <pre>Inner Loop 100%|<span class=\"enlighten-fg-blue\">████████████████████████████████████████</span>| 1000/1000 [08:43&lt;00:00, 1.91 Iterations/s]</pre>\n",
              "  </div>\n",
              "</div>\n"
            ],
            "text/plain": [
              "<IPython.core.display.HTML object>"
            ]
          },
          "metadata": {
            "tags": []
          }
        }
      ]
    },
    {
      "cell_type": "code",
      "metadata": {
        "colab": {
          "base_uri": "https://localhost:8080/",
          "height": 312
        },
        "id": "hEPrAEEi2Dsp",
        "outputId": "2e89ce3f-d8cc-4df3-dcb2-7a8a75033ba7"
      },
      "source": [
        "plt.scatter(stepsizes,results_dist)\n",
        "plt.xlabel('beta')\n",
        "plt.title('Iterations vs beta')"
      ],
      "execution_count": 14,
      "outputs": [
        {
          "output_type": "execute_result",
          "data": {
            "text/plain": [
              "Text(0.5, 1.0, 'Iterations vs beta')"
            ]
          },
          "metadata": {
            "tags": []
          },
          "execution_count": 14
        },
        {
          "output_type": "display_data",
          "data": {
            "image/png": "[encoded data removed]",
            "text/plain": [
              "<Figure size 432x288 with 1 Axes>"
            ]
          },
          "metadata": {
            "tags": [],
            "needs_background": "light"
          }
        }
      ]
    },
    {
      "cell_type": "code",
      "metadata": {
        "id": "dyOVO30kCArA"
      },
      "source": [
        ""
      ],
      "execution_count": null,
      "outputs": []
    }
  ]
}