{
  "nbformat": 4,
  "nbformat_minor": 0,
  "metadata": {
    "colab": {
      "name": "Network_Independence_Bounds.ipynb",
      "provenance": [],
      "collapsed_sections": []
    },
    "kernelspec": {
      "name": "python3",
      "display_name": "Python 3"
    },
    "language_info": {
      "name": "python"
    }
  },
  "cells": [
    {
      "cell_type": "code",
      "metadata": {
        "id": "UeuqWteju043"
      },
      "source": [
        "import networkx as nx\n",
        "import numpy as np\n",
        "\n"
      ],
      "execution_count": 1,
      "outputs": []
    },
    {
      "cell_type": "markdown",
      "metadata": {
        "id": "q8SSuWnrVcjp"
      },
      "source": [
        "This notebook produces the bounds in the (only) table in the paper \"Asymptotic Network Independence and Step-Size for a Distributed Subgradient Method.\" "
      ]
    },
    {
      "cell_type": "code",
      "metadata": {
        "id": "euN2LUkJtUlZ"
      },
      "source": [
        "def adj_to_met(U, dimen):\n",
        "  #converts adjacency matrix to metropolis matrix\n",
        "\n",
        "  degs = U.sum(axis=0) #vector of degrees\n",
        "  \n",
        "\n",
        "  X = np.zeros((dimen, dimen)) #initialize a zeros dimen x dimen matrix\n",
        "  \n",
        "  #loop below sets X[i,j] to be U[i,j] divided by the maximum degrees of i and j, plus one \n",
        "  #thus zero entries in U translate to zero entries in X\n",
        "  #if necessary, can try to rewrite all this in the future so that it does not take quadratic time\n",
        "  for i in range(dimen):\n",
        "    for j in range(dimen):\n",
        "      X[i,j] = float(U[i,j])/float((max(degs[i]+1, degs[j]+1)))\n",
        "  \n",
        "  \n",
        "  #finally, we need to take care of the diagonal entries\n",
        "\n",
        "  s = X.sum(axis=0) #sum of the rows of X\n",
        "  d = np.ones(dimen) - s #what remains to make things add up to one \n",
        "\n",
        "  X += np.diag(d) #put that remainder on the diagonal and add it to X\n",
        "\n",
        "  return X   \n"
      ],
      "execution_count": 2,
      "outputs": []
    },
    {
      "cell_type": "code",
      "metadata": {
        "id": "_kD0GcGCkknU"
      },
      "source": [
        "def inv_spectral_gap(X):\n",
        "  w,v = np.linalg.eig(X) #compute the eigenvalues\n",
        "  eigs_sorted = np.sort(w) #sort the eigenvalue vector from lowest to highest\n",
        "  #print(eigs_sorted)\n",
        "  if np.absolute(eigs_sorted[0]) > np.absolute(eigs_sorted[-2]): #eigs_sorted[0] is the smallest eigenvalue, eigs_sorted[-2] is the second largest \n",
        "    spectral_g = 1/(1-np.absolute(eigs_sorted[0]))\n",
        "  else:\n",
        "    spectral_g = 1/(1-np.absolute(eigs_sorted[-2]))\n",
        "  return spectral_g"
      ],
      "execution_count": 3,
      "outputs": []
    },
    {
      "cell_type": "code",
      "metadata": {
        "id": "Q0tNl7ZDQBz9"
      },
      "source": [
        "#parameters\n",
        "L=1\n",
        "D=1\n",
        "beta = 3/4"
      ],
      "execution_count": 4,
      "outputs": []
    },
    {
      "cell_type": "code",
      "metadata": {
        "colab": {
          "base_uri": "https://localhost:8080/"
        },
        "id": "5VQ-mraRVzSm",
        "outputId": "b6523740-f635-4428-8df6-a581fd81f12a"
      },
      "source": [
        "n=10\n",
        "\n",
        "#below creates an nxn line path\n",
        "dimen = n  #dimension is n\n",
        "\n",
        "\n",
        "G = nx.path_graph(n) #create an nxn path\n",
        "Q = nx.adjacency_matrix(G)   #adjacency matrix of this path\n",
        "U = Q.A                      #convert to a numpy array\n",
        "P = adj_to_met(U, dimen)\n",
        "one_over_one_minus_sigma = inv_spectral_gap(P)\n",
        "lower_bound_on_t_to_the_power_2beta_minus_one = (L ** 2)*(one_over_one_minus_sigma)/(D ** 2) \n",
        "lower_bound_on_t = lower_bound_on_t_to_the_power_2beta_minus_one ** (1/(2*beta-1))\n",
        "print(\"Lower bound on path graph on \" + str(n) + \" nodes: \" + str(lower_bound_on_t))\n"
      ],
      "execution_count": 5,
      "outputs": [
        {
          "output_type": "stream",
          "text": [
            "Lower bound on path graph on 10 nodes: 939.2749960326498\n"
          ],
          "name": "stdout"
        }
      ]
    },
    {
      "cell_type": "code",
      "metadata": {
        "colab": {
          "base_uri": "https://localhost:8080/"
        },
        "id": "kejJ4j08V_sH",
        "outputId": "8f4ec181-a525-43a4-a5d7-4fc9f30fd680"
      },
      "source": [
        "n=50\n",
        "\n",
        "#below creates an nxn path\n",
        "dimen = n  #dimension is n\n",
        "\n",
        "\n",
        "G = nx.path_graph(n) #create an nxn path\n",
        "Q = nx.adjacency_matrix(G)   #adjacency matrix of this path\n",
        "U = Q.A                      #convert to a numpy array\n",
        "P = adj_to_met(U, dimen)\n",
        "one_over_one_minus_sigma = inv_spectral_gap(P)\n",
        "lower_bound_on_t_to_the_power_2beta_minus_one = (L ** 2)*(one_over_one_minus_sigma)/(D ** 2) \n",
        "lower_bound_on_t = lower_bound_on_t_to_the_power_2beta_minus_one ** (1/(2*beta-1))\n",
        "print(\"Lower bound on path graph on \" + str(n) + \" nodes: \" + str(lower_bound_on_t))"
      ],
      "execution_count": 6,
      "outputs": [
        {
          "output_type": "stream",
          "text": [
            "Lower bound on path graph on 50 nodes: 577841.5938025453\n"
          ],
          "name": "stdout"
        }
      ]
    },
    {
      "cell_type": "code",
      "metadata": {
        "colab": {
          "base_uri": "https://localhost:8080/"
        },
        "id": "JXYzkoYHWCWU",
        "outputId": "85f334d6-0a3b-446b-8449-6c19085c6fb4"
      },
      "source": [
        "n=100\n",
        "\n",
        "#below creates an nxn path\n",
        "dimen = n  #dimension is n\n",
        "\n",
        "\n",
        "G = nx.path_graph(n) #create an nxn path\n",
        "Q = nx.adjacency_matrix(G)   #adjacency matrix of this grid\n",
        "U = Q.A                      #convert to a numpy array\n",
        "P = adj_to_met(U, dimen)\n",
        "one_over_one_minus_sigma = inv_spectral_gap(P)\n",
        "lower_bound_on_t_to_the_power_2beta_minus_one = (L ** 2)*(one_over_one_minus_sigma)/(D ** 2) \n",
        "lower_bound_on_t = lower_bound_on_t_to_the_power_2beta_minus_one ** (1/(2*beta-1))\n",
        "print(\"Lower bound on path graph on \" + str(n) + \" nodes: \" + str(lower_bound_on_t))"
      ],
      "execution_count": 7,
      "outputs": [
        {
          "output_type": "stream",
          "text": [
            "Lower bound on path graph on 100 nodes: 9240903.984522836\n"
          ],
          "name": "stdout"
        }
      ]
    },
    {
      "cell_type": "code",
      "metadata": {
        "colab": {
          "base_uri": "https://localhost:8080/"
        },
        "id": "MrxjQ61hk9_1",
        "outputId": "25a0847c-7b02-4540-8d49-41a1cae0f77b"
      },
      "source": [
        "n=4\n",
        "\n",
        "#below creates an nxn grid\n",
        "dimen = n ** 2 #dimension is n^2\n",
        "\n",
        "\n",
        "G = nx.grid_graph(dim=(n,n)) #create an nxn grid\n",
        "Q = nx.adjacency_matrix(G)   #adjacency matrix of this grid\n",
        "U = Q.A                      #convert to a numpy array\n",
        "P = adj_to_met(U, dimen)\n",
        "one_over_one_minus_sigma = inv_spectral_gap(P)\n",
        "lower_bound_on_t_to_the_power_2beta_minus_one = (L ** 2)*(one_over_one_minus_sigma)/(D ** 2) \n",
        "lower_bound_on_t = lower_bound_on_t_to_the_power_2beta_minus_one ** (1/(2*beta-1))\n",
        "print(\"Lower bound on 2Dgrid graph on \" + str(dimen) + \" nodes: \" + str(lower_bound_on_t))"
      ],
      "execution_count": 8,
      "outputs": [
        {
          "output_type": "stream",
          "text": [
            "Lower bound on 2Dgrid graph on 16 nodes: 57.95325169249448\n"
          ],
          "name": "stdout"
        }
      ]
    },
    {
      "cell_type": "code",
      "metadata": {
        "colab": {
          "base_uri": "https://localhost:8080/"
        },
        "id": "0_cOxKlXuBOd",
        "outputId": "92358aa3-962c-4762-9219-62c19e931cd1"
      },
      "source": [
        "n=7\n",
        "\n",
        "#below creates an nxn grid\n",
        "dimen = n ** 2 #dimension is n^2\n",
        "\n",
        "\n",
        "G = nx.grid_graph(dim=(n,n)) #create an nxn grid\n",
        "Q = nx.adjacency_matrix(G)   #adjacency matrix of this grid\n",
        "U = Q.A                      #convert to a numpy array\n",
        "P = adj_to_met(U, dimen)\n",
        "one_over_one_minus_sigma = inv_spectral_gap(P)\n",
        "lower_bound_on_t_to_the_power_2beta_minus_one = (L ** 2)*(one_over_one_minus_sigma)/(D ** 2)\n",
        "lower_bound_on_t = lower_bound_on_t_to_the_power_2beta_minus_one ** (1/(2*beta-1))\n",
        "print(\"Lower bound on 2Dgrid graph on \" + str(dimen) + \" nodes: \" + str(lower_bound_on_t))"
      ],
      "execution_count": 9,
      "outputs": [
        {
          "output_type": "stream",
          "text": [
            "Lower bound on 2Dgrid graph on 49 nodes: 557.4335181501348\n"
          ],
          "name": "stdout"
        }
      ]
    },
    {
      "cell_type": "code",
      "metadata": {
        "colab": {
          "base_uri": "https://localhost:8080/"
        },
        "id": "KgkpoEkjuD36",
        "outputId": "2cb7ca2e-f03c-4064-d1d3-bb9344ac521d"
      },
      "source": [
        "n=10\n",
        "\n",
        "#below creates an nxn grid\n",
        "dimen = n ** 2 #dimension is n^2\n",
        "\n",
        "\n",
        "G = nx.grid_graph(dim=(n,n)) #create an nxn grid\n",
        "Q = nx.adjacency_matrix(G)   #adjacency matrix of this grid\n",
        "U = Q.A                      #convert to a numpy array\n",
        "P = adj_to_met(U, dimen)\n",
        "one_over_one_minus_sigma = inv_spectral_gap(P)\n",
        "lower_bound_on_t_to_the_power_2beta_minus_one = (L ** 2)*(one_over_one_minus_sigma)/(D ** 2)\n",
        "lower_bound_on_t = lower_bound_on_t_to_the_power_2beta_minus_one ** (1/(2*beta-1))\n",
        "print(\"Lower bound on 2Dgrid graph on \" + str(dimen) + \" nodes: \" + str(lower_bound_on_t))"
      ],
      "execution_count": 10,
      "outputs": [
        {
          "output_type": "stream",
          "text": [
            "Lower bound on 2Dgrid graph on 100 nodes: 2372.48930577529\n"
          ],
          "name": "stdout"
        }
      ]
    },
    {
      "cell_type": "code",
      "metadata": {
        "colab": {
          "base_uri": "https://localhost:8080/"
        },
        "id": "O3L4F-LsWXUO",
        "outputId": "9a818433-21ca-4f37-aeb3-baea56be290a"
      },
      "source": [
        "n=4\n",
        "\n",
        "#below creates an n^2 x n^2 expander\n",
        "dimen = n ** 2 #dimension is n^2\n",
        "\n",
        "\n",
        "G = nx.margulis_gabber_galil_graph(n) #create an nxn expander\n",
        "Q = nx.adjacency_matrix(G)   #adjacency matrix of this expander\n",
        "U = Q.A                      #convert to a numpy array\n",
        "P = adj_to_met(U, dimen)\n",
        "one_over_one_minus_sigma = inv_spectral_gap(P)\n",
        "lower_bound_on_t_to_the_power_2beta_minus_one = (L ** 2)*(one_over_one_minus_sigma)/(D ** 2) \n",
        "lower_bound_on_t = lower_bound_on_t_to_the_power_2beta_minus_one ** (1/(2*beta-1))\n",
        "print(\"Lower bound on Margulis-Gabber-Galil expander  on \" + str(dimen) + \" nodes: \" + str(lower_bound_on_t))"
      ],
      "execution_count": 11,
      "outputs": [
        {
          "output_type": "stream",
          "text": [
            "Lower bound on Margulis-Gabber-Galil expander  on 16 nodes: 7.075276587488276\n"
          ],
          "name": "stdout"
        }
      ]
    },
    {
      "cell_type": "code",
      "metadata": {
        "colab": {
          "base_uri": "https://localhost:8080/"
        },
        "id": "1tDHf9A8Wiky",
        "outputId": "4433e355-d648-4002-e6b8-205281a2a560"
      },
      "source": [
        "n=7\n",
        "\n",
        "#below creates an n^2 x n^2 expander\n",
        "dimen = n ** 2 #dimension is n^2\n",
        "\n",
        "\n",
        "G = nx.margulis_gabber_galil_graph(n) #create an nxn expander\n",
        "Q = nx.adjacency_matrix(G)   #adjacency matrix of this expander\n",
        "U = Q.A                      #convert to a numpy array\n",
        "P = adj_to_met(U, dimen)\n",
        "one_over_one_minus_sigma = inv_spectral_gap(P)\n",
        "lower_bound_on_t_to_the_power_2beta_minus_one = (L ** 2)*(one_over_one_minus_sigma)/(D ** 2) \n",
        "lower_bound_on_t = lower_bound_on_t_to_the_power_2beta_minus_one ** (1/(2*beta-1))\n",
        "print(\"Lower bound on Margulis-Gabber-Galil expander  on \" + str(dimen) + \" nodes: \" + str(lower_bound_on_t))"
      ],
      "execution_count": 12,
      "outputs": [
        {
          "output_type": "stream",
          "text": [
            "Lower bound on Margulis-Gabber-Galil expander  on 49 nodes: 15.316098557236929\n"
          ],
          "name": "stdout"
        }
      ]
    },
    {
      "cell_type": "code",
      "metadata": {
        "colab": {
          "base_uri": "https://localhost:8080/"
        },
        "id": "U_KKP7-3WmfG",
        "outputId": "3a24fcab-0989-419a-ca98-0e001cddcd87"
      },
      "source": [
        "n=10\n",
        "\n",
        "#below creates an n^2 x n^2 expander\n",
        "dimen = n ** 2 #dimension is n^2\n",
        "\n",
        "\n",
        "G = nx.margulis_gabber_galil_graph(n) #create an nxn expander\n",
        "Q = nx.adjacency_matrix(G)   #adjacency matrix of this expander\n",
        "U = Q.A                      #convert to a numpy array\n",
        "P = adj_to_met(U, dimen)\n",
        "one_over_one_minus_sigma = inv_spectral_gap(P)\n",
        "lower_bound_on_t_to_the_power_2beta_minus_one = (L ** 2)*(one_over_one_minus_sigma)/(D ** 2) \n",
        "lower_bound_on_t = lower_bound_on_t_to_the_power_2beta_minus_one ** (1/(2*beta-1))\n",
        "print(\"Lower bound on Margulis-Gabber-Galil expander  on \" + str(dimen) + \" nodes: \" + str(lower_bound_on_t))"
      ],
      "execution_count": 13,
      "outputs": [
        {
          "output_type": "stream",
          "text": [
            "Lower bound on Margulis-Gabber-Galil expander  on 100 nodes: 17.118598342711234\n"
          ],
          "name": "stdout"
        }
      ]
    },
    {
      "cell_type": "code",
      "metadata": {
        "colab": {
          "base_uri": "https://localhost:8080/"
        },
        "id": "UckUabJ3uVMX",
        "outputId": "0b802df5-4e83-401a-b35a-6c5443c12434"
      },
      "source": [
        "n=2\n",
        "\n",
        "#below creates an n^3 x n^3 3Dgrid\n",
        "dimen = n ** 3 #dimension is n^3\n",
        "\n",
        "\n",
        "G = nx.grid_graph(dim=(n,n,n)) #create an n^3 x n^3 3Dgrid\n",
        "Q = nx.adjacency_matrix(G)   #adjacency matrix of this grid\n",
        "U = Q.A                      #convert to a numpy array\n",
        "P = adj_to_met(U, dimen)\n",
        "one_over_one_minus_sigma = inv_spectral_gap(P)\n",
        "lower_bound_on_t_to_the_power_2beta_minus_one = (L ** 2)*(one_over_one_minus_sigma)/(D ** 2)\n",
        "lower_bound_on_t = lower_bound_on_t_to_the_power_2beta_minus_one ** (1/(2*beta-1))\n",
        "print(\"Lower bound on 3DGrid  on \" + str(dimen) + \" nodes: \" + str(lower_bound_on_t))"
      ],
      "execution_count": 14,
      "outputs": [
        {
          "output_type": "stream",
          "text": [
            "Lower bound on 3DGrid  on 8 nodes: 4.0000000000000036\n"
          ],
          "name": "stdout"
        }
      ]
    },
    {
      "cell_type": "code",
      "metadata": {
        "colab": {
          "base_uri": "https://localhost:8080/"
        },
        "id": "kkLwSNHSw5KY",
        "outputId": "29380721-0652-46cf-a743-e81394f9a8c9"
      },
      "source": [
        "n=4\n",
        "\n",
        "#below creates an n^3 x n^3 grid\n",
        "dimen = n ** 3 #dimension is n^3\n",
        "\n",
        "\n",
        "G = nx.grid_graph(dim=(n,n,n)) #create an n^3 x n^3 3Dgrid\n",
        "Q = nx.adjacency_matrix(G)   #adjacency matrix of this grid\n",
        "U = Q.A                      #convert to a numpy array\n",
        "P = adj_to_met(U, dimen)\n",
        "one_over_one_minus_sigma = inv_spectral_gap(P)\n",
        "lower_bound_on_t_to_the_power_2beta_minus_one = (L ** 2)*(one_over_one_minus_sigma)/(D ** 2)\n",
        "lower_bound_on_t = lower_bound_on_t_to_the_power_2beta_minus_one ** (1/(2*beta-1))\n",
        "print(\"Lower bound on 3DGrid  on \" + str(dimen) + \" nodes: \" + str(lower_bound_on_t))"
      ],
      "execution_count": 15,
      "outputs": [
        {
          "output_type": "stream",
          "text": [
            "Lower bound on 3DGrid  on 64 nodes: 102.78493390284359\n"
          ],
          "name": "stdout"
        }
      ]
    },
    {
      "cell_type": "code",
      "metadata": {
        "colab": {
          "base_uri": "https://localhost:8080/"
        },
        "id": "aHd89e6uw7SE",
        "outputId": "b0738818-d948-4c01-b496-c76ef97a12ff"
      },
      "source": [
        "n=5\n",
        "\n",
        "#below creates an n^3 x n^3 grid\n",
        "dimen = n ** 3 #dimension is n^3\n",
        "\n",
        "\n",
        "G = nx.grid_graph(dim=(n,n,n)) #create an n^3x n^3 3Dgrid\n",
        "Q = nx.adjacency_matrix(G)   #adjacency matrix of this grid\n",
        "U = Q.A                      #convert to a numpy array\n",
        "P = adj_to_met(U, dimen)\n",
        "one_over_one_minus_sigma = inv_spectral_gap(P)\n",
        "lower_bound_on_t_to_the_power_2beta_minus_one = (L ** 2)*(one_over_one_minus_sigma)/(D ** 2)\n",
        "lower_bound_on_t = lower_bound_on_t_to_the_power_2beta_minus_one ** (1/(2*beta-1))\n",
        "print(\"Lower bound on 3DGrid  on \" + str(dimen) + \" nodes: \" + str(lower_bound_on_t))"
      ],
      "execution_count": 16,
      "outputs": [
        {
          "output_type": "stream",
          "text": [
            "Lower bound on 3DGrid  on 125 nodes: 258.3145259670466\n"
          ],
          "name": "stdout"
        }
      ]
    },
    {
      "cell_type": "code",
      "metadata": {
        "colab": {
          "base_uri": "https://localhost:8080/"
        },
        "id": "91meKUdldzi7",
        "outputId": "5ed40101-ffda-4d71-e1c7-3c384cd8a2fc"
      },
      "source": [
        "n=3\n",
        "\n",
        "#below creates binomial tree on 2^n nodes\n",
        "dimen = 2 ** n #dimension is 2^n\n",
        "\n",
        "\n",
        "G = nx.full_rary_tree(2,dimen) #create the tree\n",
        "Q = nx.adjacency_matrix(G)   #adjacency matrix of this tree\n",
        "U = Q.A                      #convert to a numpy array\n",
        "P = adj_to_met(U, dimen)\n",
        "one_over_one_minus_sigma = inv_spectral_gap(P)\n",
        "lower_bound_on_t_to_the_power_2beta_minus_one = (L ** 2)*(one_over_one_minus_sigma)/(D ** 2) \n",
        "lower_bound_on_t = lower_bound_on_t_to_the_power_2beta_minus_one ** (1/(2*beta-1))\n",
        "print(\"Lower bound on Binomial Tree  on \" + str(dimen) + \" nodes: \" + str(lower_bound_on_t))"
      ],
      "execution_count": 17,
      "outputs": [
        {
          "output_type": "stream",
          "text": [
            "Lower bound on Binomial Tree  on 8 nodes: 342.0207594461269\n"
          ],
          "name": "stdout"
        }
      ]
    },
    {
      "cell_type": "code",
      "metadata": {
        "colab": {
          "base_uri": "https://localhost:8080/"
        },
        "id": "Vn_1JX2NXt0S",
        "outputId": "2f80aa55-d879-41f5-a595-4afaba0f5604"
      },
      "source": [
        "n=6\n",
        "\n",
        "#below creates binomial tree on 2^n nodes\n",
        "dimen = 2 ** n #dimension is 2^n\n",
        "\n",
        "\n",
        "G = nx.full_rary_tree(2,dimen) #create the tree\n",
        "Q = nx.adjacency_matrix(G)   #adjacency matrix of this tree\n",
        "U = Q.A                      #convert to a numpy array\n",
        "P = adj_to_met(U, dimen)\n",
        "one_over_one_minus_sigma = inv_spectral_gap(P)\n",
        "lower_bound_on_t_to_the_power_2beta_minus_one = (L ** 2)*(one_over_one_minus_sigma)/(D ** 2) \n",
        "lower_bound_on_t = lower_bound_on_t_to_the_power_2beta_minus_one ** (1/(2*beta-1))\n",
        "print(\"Lower bound on Binomial Tree  on \" + str(dimen) + \" nodes: \" + str(lower_bound_on_t))"
      ],
      "execution_count": 18,
      "outputs": [
        {
          "output_type": "stream",
          "text": [
            "Lower bound on Binomial Tree  on 64 nodes: 50539.109158463994\n"
          ],
          "name": "stdout"
        }
      ]
    },
    {
      "cell_type": "code",
      "metadata": {
        "colab": {
          "base_uri": "https://localhost:8080/"
        },
        "id": "hi0oN0iiY5sS",
        "outputId": "2311e703-8520-4770-e707-0d952cba1ab1"
      },
      "source": [
        "n=7\n",
        "\n",
        "#below creates binomial tree on 2^n nodes\n",
        "dimen = 2 ** n #dimension is 2^n\n",
        "\n",
        "\n",
        "G = nx.full_rary_tree(2,dimen) #create the tree\n",
        "Q = nx.adjacency_matrix(G)   #adjacency matrix of this tree\n",
        "U = Q.A                      #convert to a numpy array\n",
        "P = adj_to_met(U, dimen)\n",
        "one_over_one_minus_sigma = inv_spectral_gap(P)\n",
        "lower_bound_on_t_to_the_power_2beta_minus_one = (L ** 2)*(one_over_one_minus_sigma)/(D ** 2) \n",
        "lower_bound_on_t = lower_bound_on_t_to_the_power_2beta_minus_one ** (1/(2*beta-1))\n",
        "print(\"Lower bound on Binomial Tree  on \" + str(dimen) + \" nodes: \" + str(lower_bound_on_t))"
      ],
      "execution_count": 19,
      "outputs": [
        {
          "output_type": "stream",
          "text": [
            "Lower bound on Binomial Tree  on 128 nodes: 224528.54940317522\n"
          ],
          "name": "stdout"
        }
      ]
    },
    {
      "cell_type": "code",
      "metadata": {
        "id": "bmYeUVjEZyWB"
      },
      "source": [
        ""
      ],
      "execution_count": 19,
      "outputs": []
    }
  ]
}